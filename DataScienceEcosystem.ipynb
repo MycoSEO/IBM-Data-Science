{
  "metadata": {
    "kernelspec": {
      "name": "python",
      "display_name": "Python (Pyodide)",
      "language": "python"
    },
    "language_info": {
      "codemirror_mode": {
        "name": "python",
        "version": 3
      },
      "file_extension": ".py",
      "mimetype": "text/x-python",
      "name": "python",
      "nbconvert_exporter": "python",
      "pygments_lexer": "ipython3",
      "version": "3.8"
    }
  },
  "nbformat_minor": 4,
  "nbformat": 4,
  "cells": [
    {
      "cell_type": "markdown",
      "source": "# <b>DATA SCIENCE TOOLS & ECOSYSTEM</b>",
      "metadata": {}
    },
    {
      "cell_type": "markdown",
      "source": "**Introdution:** This notebook is a summary of the Data Science Ecosystem.\n",
      "metadata": {}
    },
    {
      "cell_type": "markdown",
      "source": "**Contents:** In this notebook, you will find the following chapters.\n1. Data Science Languages\n2. Data Science Libraries\n3. Data Science Tools\n4. Basic Arithmetic Expressions\n5. Obejctives\n6. Author\n",
      "metadata": {}
    },
    {
      "cell_type": "code",
      "source": "",
      "metadata": {
        "trusted": true
      },
      "outputs": [],
      "execution_count": null
    },
    {
      "cell_type": "markdown",
      "source": "## <b>Data Science Languages</b>\n\nSome of the popular languages that Data Scientists use are: \n1. Python\n2. R\n3. SQL\n4. Julia\n5. Scala\n",
      "metadata": {}
    },
    {
      "cell_type": "code",
      "source": "",
      "metadata": {
        "trusted": true
      },
      "outputs": [],
      "execution_count": null
    },
    {
      "cell_type": "markdown",
      "source": "## <b>Data Science Libraries</b>\n\nSome of the commonly used libraries used in data science include:\n1. NumPy\n2. Pandas\n3. Matplotlib\n4. Scikit-learn\n5. TensorFlow\n",
      "metadata": {}
    },
    {
      "cell_type": "code",
      "source": "",
      "metadata": {
        "trusted": true
      },
      "outputs": [],
      "execution_count": null
    },
    {
      "cell_type": "markdown",
      "source": "## <b>Data Science Tools</b>\n\n| Data Science Tools        |\n|---------------------------|\n| RStudio                   |\n| Apache Zeppelin           |\n| Jupyter Notebook          |\n\n",
      "metadata": {}
    },
    {
      "cell_type": "code",
      "source": "",
      "metadata": {
        "trusted": true
      },
      "outputs": [],
      "execution_count": null
    },
    {
      "cell_type": "markdown",
      "source": "## <b>Arithmetic Expression</b>\n\nBelow are a few examples of evaluating arithmetic expressions in Python. \nIn Python, you can do basic mathematical calculation operations such as:\n- add\n- subtract\n- multiply\n- divide\n",
      "metadata": {}
    },
    {
      "cell_type": "markdown",
      "source": "#### <b>Examples for arithmetic expressions</b>",
      "metadata": {}
    },
    {
      "cell_type": "code",
      "source": "# For example, multiply integers 3 with 4, then add 5\n(3 * 4) + 5",
      "metadata": {
        "trusted": true
      },
      "outputs": [
        {
          "execution_count": 12,
          "output_type": "execute_result",
          "data": {
            "text/plain": "17"
          },
          "metadata": {}
        }
      ],
      "execution_count": 12
    },
    {
      "cell_type": "code",
      "source": "# Do more complex calculations: multiply, add, subtract, and divide ( follows basic mathematical rules )\n(3 * 4) + 5 - 6 / 5.5",
      "metadata": {
        "trusted": true
      },
      "outputs": [
        {
          "execution_count": 13,
          "output_type": "execute_result",
          "data": {
            "text/plain": "15.90909090909091"
          },
          "metadata": {}
        }
      ],
      "execution_count": 13
    },
    {
      "cell_type": "code",
      "source": "# Convert 200 minutes to hours by dividing by 60\n200 / 60",
      "metadata": {
        "trusted": true
      },
      "outputs": [
        {
          "execution_count": 15,
          "output_type": "execute_result",
          "data": {
            "text/plain": "3.3333333333333335"
          },
          "metadata": {}
        }
      ],
      "execution_count": 15
    },
    {
      "cell_type": "code",
      "source": "",
      "metadata": {
        "trusted": true
      },
      "outputs": [],
      "execution_count": null
    },
    {
      "cell_type": "markdown",
      "source": "## Objectives\n- List popular languages for Data Science\n- List commonly used libraries in Data Science\n- Create markdown and code cells in Jupyter Notebook\n- Demonstrate basic arithmetic operations",
      "metadata": {}
    },
    {
      "cell_type": "markdown",
      "source": "## Author\nPatrizia S.",
      "metadata": {}
    },
    {
      "cell_type": "code",
      "source": "",
      "metadata": {
        "trusted": true
      },
      "outputs": [],
      "execution_count": null
    }
  ]
}